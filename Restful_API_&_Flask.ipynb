{
  "nbformat": 4,
  "nbformat_minor": 0,
  "metadata": {
    "colab": {
      "provenance": []
    },
    "kernelspec": {
      "name": "python3",
      "display_name": "Python 3"
    },
    "language_info": {
      "name": "python"
    }
  },
  "cells": [
    {
      "cell_type": "markdown",
      "source": [
        "#THEORY QUESTIONS\n"
      ],
      "metadata": {
        "id": "OKIR_4RrEqzJ"
      }
    },
    {
      "cell_type": "markdown",
      "source": [
        "1- What is a RESTful API ?\n",
        "- A RESTful API (Representational State Transfer) is an application programming interface that follows REST principles. It uses standard HTTP methods (GET, POST, PUT, DELETE) to access and manipulate resources (data) using URLs. It’s stateless, scalable, and widely used for web services.\n"
      ],
      "metadata": {
        "id": "4ZpWV5XUEzh_"
      }
    },
    {
      "cell_type": "markdown",
      "source": [
        "2- Explain the concept of API specification\n",
        "- An API specification is a detailed document that describes how an API behaves and how to interact with it. It includes endpoint URLs, request methods, parameters, request/response formats, and error codes. Tools like Swagger/OpenAPI are commonly used to define these specifications."
      ],
      "metadata": {
        "id": "9UTjcqlUEzj0"
      }
    },
    {
      "cell_type": "markdown",
      "source": [
        "3- What is Flask, and why is it popular for building APIs\n",
        "- Flask is a lightweight, Python-based web framework. It's popular for building APIs because it is:\n",
        "\n",
        "Minimal and easy to learn\n",
        "\n",
        "Flexible and extensible\n",
        "\n",
        "Comes with built-in development server and debugger\n",
        "\n",
        "Supports RESTful routing\n",
        "\n",
        "Has a large ecosystem (Flask-RESTful, Flask-SQLAlchemy, etc.)"
      ],
      "metadata": {
        "id": "LODFrDpqEznb"
      }
    },
    {
      "cell_type": "markdown",
      "source": [
        "4-\n",
        "What is routing in Flask?\n",
        "- Routing in Flask refers to mapping a URL path to a function. This determines how your application responds to a specific web request. It is done using @app.route() decorator."
      ],
      "metadata": {
        "id": "DVYENt7DEzpU"
      }
    },
    {
      "cell_type": "markdown",
      "source": [
        "5- How do you create a simple Flask application?\n"
      ],
      "metadata": {
        "id": "ZxTjYXccEztk"
      }
    },
    {
      "cell_type": "code",
      "source": [
        "from flask import Flask\n",
        "\n",
        "app = Flask(__name__)\n",
        "\n",
        "@app.route('/')\n",
        "def home():\n",
        "    return 'Hello, World!'\n",
        "\n",
        "if __name__ == '__main__':\n",
        "    app.run(debug=True)\n"
      ],
      "metadata": {
        "id": "Gum1vTjLF0vf"
      },
      "execution_count": null,
      "outputs": []
    },
    {
      "cell_type": "markdown",
      "source": [
        "6- What are HTTP methods used in RESTful APIs?\n",
        "- Common HTTP methods:\n",
        "\n",
        "GET: Retrieve data\n",
        "\n",
        "POST: Submit new data\n",
        "\n",
        "PUT: Update existing data\n",
        "\n",
        "DELETE: Remove data\n",
        "\n",
        "PATCH: Partially update data\n",
        "\n",
        "OPTIONS: Get supported HTTP methods"
      ],
      "metadata": {
        "id": "7IWC2QQoEzwk"
      }
    },
    {
      "cell_type": "markdown",
      "source": [
        "7- What is the purpose of the @app.route() decorator in Flask?\n",
        "- The @app.route() decorator binds a URL to a Python function. It tells Flask what to execute when a user visits a particular route (URL)."
      ],
      "metadata": {
        "id": "V1x4wA6NEz-U"
      }
    },
    {
      "cell_type": "markdown",
      "source": [
        "8- What is the difference between GET and POST HTTP methods?\n",
        "- GET: Sends data via URL (query parameters), used for retrieving data.\n",
        "\n",
        "POST: Sends data in the request body, used for submitting or updating data. It's more secure for sensitive data."
      ],
      "metadata": {
        "id": "l1hj5l29GLT2"
      }
    },
    {
      "cell_type": "markdown",
      "source": [
        "9- How do you handle errors in Flask APIs?"
      ],
      "metadata": {
        "id": "WIpS5kCfGTQz"
      }
    },
    {
      "cell_type": "code",
      "source": [
        "#You can handle errors using:\n",
        "\n",
        "from flask import jsonify\n",
        "\n",
        "@app.errorhandler(404)\n",
        "def not_found(e):\n",
        "    return jsonify(error='Not Found'), 404\n",
        "\n",
        "#You can define custom error handlers for different status codes like 400, 401, 500, etc."
      ],
      "metadata": {
        "id": "84s6np5gGQDO"
      },
      "execution_count": null,
      "outputs": []
    },
    {
      "cell_type": "markdown",
      "source": [
        "10- How do you connect Flask to a SQL database?\n"
      ],
      "metadata": {
        "id": "bcF8HKmuGdXa"
      }
    },
    {
      "cell_type": "code",
      "source": [
        "#Using Flask-SQLAlchemy:\n",
        "from flask_sqlalchemy import SQLAlchemy\n",
        "\n",
        "app.config['SQLALCHEMY_DATABASE_URI'] = 'sqlite:///mydb.db'\n",
        "db = SQLAlchemy(app)\n"
      ],
      "metadata": {
        "id": "Q-IdtC6yGpT2"
      },
      "execution_count": null,
      "outputs": []
    },
    {
      "cell_type": "markdown",
      "source": [
        "11- What is the role of Flask-SQLAlchemy?\n",
        "- Flask-SQLAlchemy is an ORM (Object Relational Mapper) that helps interact with databases using Python classes and objects instead of raw SQL queries."
      ],
      "metadata": {
        "id": "eJX47uQ2HBCN"
      }
    },
    {
      "cell_type": "markdown",
      "source": [
        "12- What are Flask blueprints, and how are they useful?\n",
        "- Blueprints help organize a Flask app into smaller, reusable modules. Useful for:\n",
        "\n",
        "Large applications\n",
        "\n",
        "Better code structure\n",
        "\n",
        "Avoiding circular imports\n",
        "\n"
      ],
      "metadata": {
        "id": "D6CR2IQOHEa8"
      }
    },
    {
      "cell_type": "markdown",
      "source": [
        "13- What is the purpose of Flask's request object?\n",
        "\n",
        "- The request object contains data sent by the client:\n",
        "\n",
        "Form data: request.form\n",
        "\n",
        "JSON: request.json\n",
        "\n",
        "Query params: request.args\n",
        "\n",
        "Headers: request.headers"
      ],
      "metadata": {
        "id": "Ih0YBR9_HEd0"
      }
    },
    {
      "cell_type": "markdown",
      "source": [
        "14- How do you create a RESTful API endpoint using Flask?"
      ],
      "metadata": {
        "id": "Pjcyb_3IHNbQ"
      }
    },
    {
      "cell_type": "code",
      "source": [
        "@app.route('/api/greet/<name>', methods=['GET'])\n",
        "def greet(name):\n",
        "    return jsonify(message=f\"Hello, {name}\")\n"
      ],
      "metadata": {
        "id": "J8U10VONHXdL"
      },
      "execution_count": null,
      "outputs": []
    },
    {
      "cell_type": "markdown",
      "source": [
        "15- What is the purpose of Flask's jsonify() function?\n",
        "- jsonify() converts Python dictionaries/lists into valid JSON responses and sets appropriate content-type (application/json).\n",
        "\n"
      ],
      "metadata": {
        "id": "VFCSzWgKHaK8"
      }
    },
    {
      "cell_type": "markdown",
      "source": [
        "16- Explain Flask’s url_for() function.\n",
        "-\n",
        "url_for() dynamically builds a URL for a given function name. It’s useful for:\n",
        "\n",
        "Avoiding hardcoded URLs\n",
        "\n",
        "Managing dynamic routes\n",
        "\n",
        "Example:\n",
        "\n",
        "url_for('home')  # returns '/'"
      ],
      "metadata": {
        "id": "jcz3WQ3xHfI_"
      }
    },
    {
      "cell_type": "markdown",
      "source": [
        "17- How does Flask handle static files (CSS, JavaScript, etc.)?\n",
        "- Flask serves static files from a static/ folder:\n"
      ],
      "metadata": {
        "id": "Z4wielZQHfTl"
      }
    },
    {
      "cell_type": "code",
      "source": [
        "<link rel=\"stylesheet\" href=\"{{ url_for('static', filename='style.css') }}\">\n"
      ],
      "metadata": {
        "id": "ZHBbheFLH-oL"
      },
      "execution_count": null,
      "outputs": []
    },
    {
      "cell_type": "markdown",
      "source": [
        "18- What is an API specification, and how does it help in building a Flask API?\n",
        "- An API specification provides a clear contract between client and server. It helps:\n",
        "\n",
        "Developers know how to use the API\n",
        "\n",
        "Automates documentation\n",
        "\n",
        "Supports validation and testing\n",
        "\n",
        "Tools like Swagger can auto-generate UI and code"
      ],
      "metadata": {
        "id": "OQIUJeX1H_rS"
      }
    },
    {
      "cell_type": "markdown",
      "source": [
        "19- What are HTTP status codes, and why are they important in a Flask API?\n",
        "- HTTP status codes indicate the result of an HTTP request:\n",
        "\n",
        "200: OK\n",
        "\n",
        "201: Created\n",
        "\n",
        "400: Bad Request\n",
        "\n",
        "404: Not Found\n",
        "\n",
        "500: Internal Server Error\n",
        "They help clients understand whether their request was successful or not."
      ],
      "metadata": {
        "id": "U0F-DgcvH5Rp"
      }
    },
    {
      "cell_type": "markdown",
      "source": [
        "20- How do you handle POST requests in Flask?"
      ],
      "metadata": {
        "id": "hvQxugLUIMCb"
      }
    },
    {
      "cell_type": "code",
      "source": [
        "from flask import request\n",
        "\n",
        "@app.route('/submit', methods=['POST'])\n",
        "def submit():\n",
        "    data = request.json\n",
        "    return jsonify(received=data)\n"
      ],
      "metadata": {
        "id": "DZRLI7o3IR_v"
      },
      "execution_count": null,
      "outputs": []
    },
    {
      "cell_type": "markdown",
      "source": [
        "21- How would you secure a Flask API?\n",
        "- Use HTTPS\n",
        "\n",
        "Validate input data\n",
        "\n",
        "Use authentication (e.g., API keys, JWT)\n",
        "\n",
        "Implement rate limiting\n",
        "\n",
        "Protect against common attacks (e.g., SQL injection, CSRF)\n",
        "\n",
        "Use Flask-Limiter, Flask-JWT, etc."
      ],
      "metadata": {
        "id": "33eNkulXITmq"
      }
    },
    {
      "cell_type": "markdown",
      "source": [
        "22- What is the significance of the Flask-RESTful extension?\n",
        "- Flask-RESTful simplifies building REST APIs. It provides:\n",
        "\n",
        "Resource classes (Resource)\n",
        "\n",
        "Easy request parsing\n",
        "\n",
        "Cleaner routing\n",
        "\n",
        "Better organization for large APIs"
      ],
      "metadata": {
        "id": "0hwI7vyZIXIc"
      }
    },
    {
      "cell_type": "markdown",
      "source": [
        "23- What is the role of Flask’s session object?\n",
        "- session stores user-specific data between requests using a signed cookie. It helps with:\n",
        "\n",
        "Tracking logged-in users\n",
        "\n",
        "Storing preferences"
      ],
      "metadata": {
        "id": "2HtvPVopIbO5"
      }
    },
    {
      "cell_type": "markdown",
      "source": [
        "#PRACTICAL QUESTIONS\n"
      ],
      "metadata": {
        "id": "LCm-q0dgIhrb"
      }
    },
    {
      "cell_type": "markdown",
      "source": [
        "1- How do you create a basic Flask application?"
      ],
      "metadata": {
        "id": "cUQpKlahIowp"
      }
    },
    {
      "cell_type": "code",
      "source": [
        "# STEP 1: Install Flask and pyngrok\n",
        "!pip install flask\n",
        "!pip install pyngrok\n",
        "\n",
        "# STEP 2: Import modules\n",
        "from flask import Flask\n",
        "from pyngrok import ngrok\n",
        "\n",
        "# STEP 3: Create the Flask app\n",
        "app = Flask(__name__)\n",
        "\n",
        "@app.route(\"/\")\n",
        "def home():\n",
        "    return \"✅ Hello from Flask in Colab with pyngrok!\"\n",
        "\n",
        "# STEP 4: Expose the app to the internet\n",
        "public_url = ngrok.connect(5000)\n",
        "print(\"🌐 Public URL:\", public_url)\n",
        "\n",
        "# STEP 5: Run Flask app\n",
        "app.run(port=5000)\n"
      ],
      "metadata": {
        "id": "Mi12s9QBKbSI"
      },
      "execution_count": null,
      "outputs": []
    },
    {
      "cell_type": "markdown",
      "source": [
        "2- How do you serve static files like images or CSS in Flask?"
      ],
      "metadata": {
        "id": "-AlSpAlkKcAP"
      }
    },
    {
      "cell_type": "code",
      "source": [
        "# STEP 1: Install Flask and pyngrok\n",
        "!pip install flask flask-ngrok\n",
        "\n",
        "# STEP 2: Create static files and HTML content\n",
        "import os\n",
        "\n",
        "# Create directories\n",
        "os.makedirs(\"static\", exist_ok=True)\n",
        "os.makedirs(\"templates\", exist_ok=True)\n",
        "\n",
        "# Create a CSS file\n",
        "with open(\"static/style.css\", \"w\") as f:\n",
        "    f.write(\"\"\"\n",
        "    body {\n",
        "        background-color: #f0f0f0;\n",
        "        text-align: center;\n",
        "        font-family: Arial;\n",
        "    }\n",
        "    h1 {\n",
        "        color: green;\n",
        "    }\n",
        "    \"\"\")\n",
        "\n",
        "# Create an HTML template\n",
        "with open(\"templates/index.html\", \"w\") as f:\n",
        "    f.write(\"\"\"\n",
        "    <!DOCTYPE html>\n",
        "    <html>\n",
        "    <head>\n",
        "        <title>Static Example</title>\n",
        "        <link rel=\"stylesheet\" href=\"{{ url_for('static', filename='style.css') }}\">\n",
        "    </head>\n",
        "    <body>\n",
        "        <h1>Hello from Flask!</h1>\n",
        "    </body>\n",
        "    </html>\n",
        "    \"\"\")\n",
        "\n",
        "# STEP 3: Build the Flask app\n",
        "from flask import Flask, render_template\n",
        "from flask_ngrok import run_with_ngrok\n",
        "\n",
        "app = Flask(__name__)\n",
        "run_with_ngrok(app)  # Automatically expose with ngrok\n",
        "\n",
        "@app.route(\"/\")\n",
        "def home():\n",
        "    return render_template(\"index.html\")\n",
        "\n",
        "# STEP 4: Run the app\n",
        "app.run()\n"
      ],
      "metadata": {
        "id": "WyfthHn_K0h_"
      },
      "execution_count": null,
      "outputs": []
    },
    {
      "cell_type": "markdown",
      "source": [
        "3- How do you define different routes with different HTTP methods in Flask?"
      ],
      "metadata": {
        "id": "5avFkQfCK1LW"
      }
    },
    {
      "cell_type": "code",
      "source": [
        "from flask import Flask, request\n",
        "\n",
        "app = Flask(__name__)\n",
        "\n",
        "# Route for GET request only\n",
        "@app.route('/get-example', methods=['GET'])\n",
        "def get_example():\n",
        "    return \"This is a GET request!\"\n",
        "\n",
        "# Route for POST request only\n",
        "@app.route('/post-example', methods=['POST'])\n",
        "def post_example():\n",
        "    data = request.form.get(\"name\", \"No name provided\")\n",
        "    return f\"Received POST request with name = {data}\"\n",
        "\n",
        "# Route for both GET and POST\n",
        "@app.route('/both-example', methods=['GET', 'POST'])\n",
        "def both_example():\n",
        "    if request.method == 'GET':\n",
        "        return \"GET request received at /both-example\"\n",
        "    elif request.method == 'POST':\n",
        "        return \"POST request received at /both-example\"\n",
        "\n",
        "if __name__ == \"__main__\":\n",
        "    app.run(debug=True)\n"
      ],
      "metadata": {
        "id": "gFZyvLNmLLXK"
      },
      "execution_count": null,
      "outputs": []
    },
    {
      "cell_type": "markdown",
      "source": [
        "4- How do you render HTML templates in Flask?"
      ],
      "metadata": {
        "id": "JBqcBudhLYIs"
      }
    },
    {
      "cell_type": "code",
      "source": [
        "# Step 1: Install Flask (run this only once)\n",
        "!pip install flask flask-ngrok\n",
        "\n",
        "# Step 2: Write Flask app with template creation included\n",
        "import os\n",
        "from flask import Flask, render_template\n",
        "from flask_ngrok import run_with_ngrok\n",
        "\n",
        "# Create templates folder and an HTML file\n",
        "os.makedirs(\"templates\", exist_ok=True)\n",
        "with open(\"templates/index.html\", \"w\") as f:\n",
        "    f.write(\"\"\"\n",
        "    <!DOCTYPE html>\n",
        "    <html>\n",
        "    <head><title>Flask Template Example</title></head>\n",
        "    <body>\n",
        "        <h1>Hello from Flask Template!</h1>\n",
        "        <p>This page is rendered using render_template()</p>\n",
        "    </body>\n",
        "    </html>\n",
        "    \"\"\")\n",
        "\n",
        "app = Flask(__name__)\n",
        "run_with_ngrok(app)  # Expose app publicly via ngrok in Colab\n",
        "\n",
        "@app.route('/')\n",
        "def home():\n",
        "    return render_template('index.html')\n",
        "\n",
        "app.run()\n"
      ],
      "metadata": {
        "id": "xDG0fJM7Llnp"
      },
      "execution_count": null,
      "outputs": []
    },
    {
      "cell_type": "markdown",
      "source": [
        "5- How can you generate URLs for routes in Flask using url_for?"
      ],
      "metadata": {
        "id": "GCDZH4kyLmdG"
      }
    },
    {
      "cell_type": "code",
      "source": [
        "from flask import Flask, url_for\n",
        "\n",
        "app = Flask(__name__)\n",
        "\n",
        "@app.route('/')\n",
        "def home():\n",
        "    # Generate URL for 'profile' route with username='alice'\n",
        "    profile_url = url_for('profile', username='alice')\n",
        "    return f\"Profile URL for Alice: {profile_url}\"\n",
        "\n",
        "@app.route('/user/<username>')\n",
        "def profile(username):\n",
        "    return f\"Welcome to {username}'s profile!\"\n",
        "\n",
        "if __name__ == '__main__':\n",
        "    app.run(debug=True)\n"
      ],
      "metadata": {
        "id": "VeyfwERRMcL4"
      },
      "execution_count": null,
      "outputs": []
    },
    {
      "cell_type": "markdown",
      "source": [
        "6- How do you handle forms in Flask?"
      ],
      "metadata": {
        "id": "KWwWV221Me98"
      }
    },
    {
      "cell_type": "code",
      "source": [
        "from flask import Flask, request, render_template_string\n",
        "\n",
        "app = Flask(__name__)\n",
        "\n",
        "# Simple HTML form template as a string\n",
        "form_html = \"\"\"\n",
        "<!DOCTYPE html>\n",
        "<html>\n",
        "<head><title>Flask Form Example</title></head>\n",
        "<body>\n",
        "  <h2>Enter your name:</h2>\n",
        "  <form method=\"POST\">\n",
        "    <input type=\"text\" name=\"username\" placeholder=\"Your name\" required>\n",
        "    <input type=\"submit\" value=\"Submit\">\n",
        "  </form>\n",
        "\n",
        "  {% if name %}\n",
        "  <h3>Hello, {{ name }}!</h3>\n",
        "  {% endif %}\n",
        "</body>\n",
        "</html>\n",
        "\"\"\"\n",
        "\n",
        "@app.route('/', methods=['GET', 'POST'])\n",
        "def index():\n",
        "    name = None\n",
        "    if request.method == 'POST':\n",
        "        # Get form data\n",
        "        name = request.form.get('username')\n",
        "    return render_template_string(form_html, name=name)\n",
        "\n",
        "if __name__ == '__main__':\n",
        "    app.run(debug=True)\n"
      ],
      "metadata": {
        "id": "1UGeBkMrMqPI"
      },
      "execution_count": null,
      "outputs": []
    },
    {
      "cell_type": "markdown",
      "source": [
        "7- How can you validate form data in Flask?"
      ],
      "metadata": {
        "id": "Gilwqwu_MtY1"
      }
    },
    {
      "cell_type": "code",
      "source": [
        "!pip install flask flask-wtf\n",
        "\n",
        "from flask import Flask, render_template_string\n",
        "from flask_wtf import FlaskForm\n",
        "from wtforms import StringField, SubmitField\n",
        "from wtforms.validators import DataRequired, Length\n",
        "\n",
        "app = Flask(__name__)\n",
        "app.secret_key = 'secret-key'  # Needed for CSRF protection\n",
        "\n",
        "class NameForm(FlaskForm):\n",
        "    username = StringField('Name', validators=[DataRequired(), Length(min=3, max=25)])\n",
        "    submit = SubmitField('Submit')\n",
        "\n",
        "form_html = \"\"\"\n",
        "<!DOCTYPE html>\n",
        "<html>\n",
        "<head><title>Form Validation</title></head>\n",
        "<body>\n",
        "  <h2>Enter your name:</h2>\n",
        "  <form method=\"POST\">\n",
        "    {{ form.hidden_tag() }}\n",
        "    {{ form.username.label }} {{ form.username(size=20) }}<br>\n",
        "    {% for error in form.username.errors %}\n",
        "      <span style=\"color:red;\">{{ error }}</span><br>\n",
        "    {% endfor %}\n",
        "    {{ form.submit() }}\n",
        "  </form>\n",
        "\n",
        "  {% if name %}\n",
        "    <h3>Hello, {{ name }}!</h3>\n",
        "  {% endif %}\n",
        "</body>\n",
        "</html>\n",
        "\"\"\"\n",
        "\n",
        "@app.route('/', methods=['GET', 'POST'])\n",
        "def index():\n",
        "    form = NameForm()\n",
        "    name = None\n",
        "    if form.validate_on_submit():\n",
        "        name = form.username.data\n",
        "    return render_template_string(form_html, form=form, name=name)\n",
        "\n",
        "app.run(debug=True)\n"
      ],
      "metadata": {
        "id": "1nPRWCXsMyh1"
      },
      "execution_count": null,
      "outputs": []
    },
    {
      "cell_type": "markdown",
      "source": [
        "8- How do you manage sessions in Flask?"
      ],
      "metadata": {
        "id": "DGS9faSrM9GW"
      }
    },
    {
      "cell_type": "code",
      "source": [
        "from flask import Flask, session, redirect, url_for, request\n",
        "\n",
        "app = Flask(__name__)\n",
        "app.secret_key = 'your_secret_key'  # Needed for session encryption\n",
        "\n",
        "@app.route('/')\n",
        "def index():\n",
        "    if 'username' in session:\n",
        "        return f\"Logged in as {session['username']}<br><a href='/logout'>Logout</a>\"\n",
        "    return \"You are not logged in<br><a href='/login'>Login</a>\"\n",
        "\n",
        "@app.route('/login', methods=['GET', 'POST'])\n",
        "def login():\n",
        "    if request.method == 'POST':\n",
        "        session['username'] = request.form['username']  # Save username in session\n",
        "        return redirect(url_for('index'))\n",
        "    return '''\n",
        "        <form method=\"post\">\n",
        "            Username: <input type=\"text\" name=\"username\" required>\n",
        "            <input type=\"submit\" value=\"Login\">\n",
        "        </form>\n",
        "    '''\n",
        "\n",
        "@app.route('/logout')\n",
        "def logout():\n",
        "    session.pop('username', None)  # Remove username from session\n",
        "    return redirect(url_for('index'))\n",
        "\n",
        "if __name__ == '__main__':\n",
        "    app.run(debug=True)\n"
      ],
      "metadata": {
        "id": "OIfMt8lLNG-a"
      },
      "execution_count": null,
      "outputs": []
    },
    {
      "cell_type": "markdown",
      "source": [
        "9- How do you redirect to a different route in Flask?"
      ],
      "metadata": {
        "id": "evcjSq-7NHwk"
      }
    },
    {
      "cell_type": "code",
      "source": [
        "from flask import Flask, redirect, url_for\n",
        "\n",
        "app = Flask(__name__)\n",
        "\n",
        "@app.route('/')\n",
        "def home():\n",
        "    return \"This is the home page.\"\n",
        "\n",
        "@app.route('/go-to-home')\n",
        "def go_to_home():\n",
        "    # Redirect to the 'home' route\n",
        "    return redirect(url_for('home'))\n",
        "\n",
        "if __name__ == '__main__':\n",
        "    app.run(debug=True)\n"
      ],
      "metadata": {
        "id": "u3yAHsEQNRLl"
      },
      "execution_count": null,
      "outputs": []
    },
    {
      "cell_type": "markdown",
      "source": [
        "10- How do you handle errors in Flask (e.g., 404)?"
      ],
      "metadata": {
        "id": "YAqWZXqVNR1q"
      }
    },
    {
      "cell_type": "code",
      "source": [
        "from flask import Flask, render_template_string\n",
        "\n",
        "app = Flask(__name__)\n",
        "\n",
        "@app.route('/')\n",
        "def home():\n",
        "    return \"Welcome to the home page!\"\n",
        "\n",
        "# Custom 404 error handler\n",
        "@app.errorhandler(404)\n",
        "def page_not_found(e):\n",
        "    return render_template_string(\"\"\"\n",
        "        <h1>404 - Page Not Found</h1>\n",
        "        <p>Sorry, the page you requested does not exist.</p>\n",
        "    \"\"\"), 404\n",
        "\n",
        "if __name__ == '__main__':\n",
        "    app.run(debug=True)\n"
      ],
      "metadata": {
        "id": "qxiEqUDyNciY"
      },
      "execution_count": null,
      "outputs": []
    },
    {
      "cell_type": "markdown",
      "source": [
        "11- How do you structure a Flask app using Blueprints?\n"
      ],
      "metadata": {
        "id": "gCsQ4fIONe1y"
      }
    },
    {
      "cell_type": "code",
      "source": [
        "from flask import Flask, Blueprint\n",
        "\n",
        "# Create a Blueprint\n",
        "simple_bp = Blueprint('simple_bp', __name__, url_prefix='/simple')\n",
        "\n",
        "@simple_bp.route('/')\n",
        "def simple_home():\n",
        "    return \"Hello from the Blueprint!\"\n",
        "\n",
        "app = Flask(__name__)\n",
        "\n",
        "# Register the Blueprint with the main app\n",
        "app.register_blueprint(simple_bp)\n",
        "\n",
        "@app.route('/')\n",
        "def home():\n",
        "    return \"Main app home page\"\n",
        "\n",
        "if __name__ == '__main__':\n",
        "    app.run(debug=True)\n"
      ],
      "metadata": {
        "id": "tpqDqwaLNkBF"
      },
      "execution_count": null,
      "outputs": []
    },
    {
      "cell_type": "markdown",
      "source": [
        "12- How do you define a custom Jinja filter in Flask?"
      ],
      "metadata": {
        "id": "OTxoNqj_Nolc"
      }
    },
    {
      "cell_type": "code",
      "source": [
        "from flask import Flask, render_template_string\n",
        "\n",
        "app = Flask(__name__)\n",
        "\n",
        "# Define a custom filter function\n",
        "def reverse_string(s):\n",
        "    return s[::-1]\n",
        "\n",
        "# Register the filter with Flask's Jinja environment\n",
        "app.jinja_env.filters['reverse'] = reverse_string\n",
        "\n",
        "@app.route('/')\n",
        "def index():\n",
        "    name = \"Flask\"\n",
        "    # Use the custom filter 'reverse' in the template\n",
        "    template = '''\n",
        "    Original: {{ name }} <br>\n",
        "    Reversed: {{ name | reverse }}\n",
        "    '''\n",
        "    return render_template_string(template, name=name)\n",
        "\n",
        "if __name__ == '__main__':\n",
        "    app.run(debug=True)\n"
      ],
      "metadata": {
        "id": "_enEL7k5Nu85"
      },
      "execution_count": null,
      "outputs": []
    },
    {
      "cell_type": "markdown",
      "source": [
        "13- How can you redirect with query parameters in Flask?"
      ],
      "metadata": {
        "id": "yJblQpukNy4Y"
      }
    },
    {
      "cell_type": "code",
      "source": [
        "from flask import Flask, redirect, url_for, request\n",
        "\n",
        "app = Flask(__name__)\n",
        "\n",
        "@app.route('/')\n",
        "def home():\n",
        "    # Access query parameters if any\n",
        "    name = request.args.get('name', 'Guest')\n",
        "    return f\"Hello, {name}!\"\n",
        "\n",
        "@app.route('/redirect-me')\n",
        "def redirect_me():\n",
        "    # Redirect to 'home' with a query parameter ?name=FlaskUser\n",
        "    return redirect(url_for('home', name='FlaskUser'))\n",
        "\n",
        "if __name__ == '__main__':\n",
        "    app.run(debug=True)\n"
      ],
      "metadata": {
        "id": "5cr7mDdXN4VK"
      },
      "execution_count": null,
      "outputs": []
    },
    {
      "cell_type": "markdown",
      "source": [
        "14- How do you return JSON responses in Flask?"
      ],
      "metadata": {
        "id": "8BszsfoFN6h0"
      }
    },
    {
      "cell_type": "code",
      "source": [
        "from flask import Flask, jsonify\n",
        "\n",
        "app = Flask(__name__)\n",
        "\n",
        "@app.route('/api/data')\n",
        "def get_data():\n",
        "    return jsonify({\n",
        "        \"name\": \"Flask API\",\n",
        "        \"version\": \"1.0\",\n",
        "        \"features\": [\"JSON response\", \"Routing\", \"Easy to use\"]\n",
        "    })\n",
        "\n",
        "if __name__ == '__main__':\n",
        "    app.run(debug=True)\n"
      ],
      "metadata": {
        "id": "1pwHsi6vOA51"
      },
      "execution_count": null,
      "outputs": []
    },
    {
      "cell_type": "markdown",
      "source": [
        "15- How do you capture URL parameters in Flask?"
      ],
      "metadata": {
        "id": "lwvsoCfIOKqe"
      }
    },
    {
      "cell_type": "code",
      "source": [
        "from flask import Flask\n",
        "\n",
        "app = Flask(__name__)\n",
        "\n",
        "# Capture a string parameter from the URL\n",
        "@app.route('/user/<username>')\n",
        "def show_user(username):\n",
        "    return f\"Hello, {username}!\"\n",
        "\n",
        "# Capture an integer parameter from the URL\n",
        "@app.route('/post/<int:post_id>')\n",
        "def show_post(post_id):\n",
        "    return f\"Post ID: {post_id}\"\n",
        "\n",
        "if __name__ == '__main__':\n",
        "    app.run(debug=True)\n"
      ],
      "metadata": {
        "id": "L5fp6jiIOPCg"
      },
      "execution_count": null,
      "outputs": []
    }
  ]
}